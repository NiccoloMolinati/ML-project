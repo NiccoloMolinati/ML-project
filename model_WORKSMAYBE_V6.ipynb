{
 "cells": [
  {
   "cell_type": "code",
   "execution_count": 142,
   "metadata": {},
   "outputs": [],
   "source": [
    "import torch as t\n",
    "import torch.nn as nn\n",
    "import torch.optim as optim\n",
    "import torch.nn.functional as F\n",
    "import torchvision.models as models\n",
    "import torchvision.transforms as transforms\n",
    "import torchvision.datasets as datasets\n",
    "from torch.utils.data import Dataset, DataLoader, random_split\n",
    "from sklearn.model_selection import train_test_split\n",
    "from datasets import load_dataset \n",
    "import numpy as np\n",
    "from PIL import Image, ImageFilter\n",
    "import os, random\n",
    "import pandas as pd\n",
    "import transformers as tr\n",
    "from sklearn.metrics import roc_auc_score, roc_curve\n",
    "import matplotlib.pyplot as plt\n",
    "import json\n",
    "import shutil\n",
    "import copy"
   ]
  },
  {
   "cell_type": "code",
   "execution_count": 2,
   "metadata": {},
   "outputs": [
    {
     "name": "stdout",
     "output_type": "stream",
     "text": [
      "      id            img  label  \\\n",
      "0  42953  img/42953.png      0   \n",
      "\n",
      "                                               text  \n",
      "0  its their character not their color that matters  \n"
     ]
    }
   ],
   "source": [
    "# DO NOT RUN CELL!\n",
    "\n",
    "\"\"\"lines = []\n",
    "with open(\"hateful_memes/train.jsonl\") as f:\n",
    "    lines = f.read().splitlines()\n",
    "\n",
    "lines_dict = [json.loads(line) for line in lines]\n",
    "\n",
    "df = pd.DataFrame(lines_dict)\n",
    "print(df.loc[[0]])\"\"\""
   ]
  },
  {
   "cell_type": "code",
   "execution_count": 12,
   "metadata": {},
   "outputs": [
    {
     "name": "stdout",
     "output_type": "stream",
     "text": [
      "files moved\n"
     ]
    }
   ],
   "source": [
    "# DO NOT RUN CELL!\n",
    "'''\n",
    "imgs_referenced = df[\"img\"]\n",
    "imgs_referenced.astype(str)\n",
    "\n",
    "def select_ref_imgs(orig_loc):\n",
    "    orig_loc = str(orig_loc)\n",
    "    file_name = orig_loc[4:]\n",
    "   \n",
    "    try:\n",
    "        shutil.move(f\".\\hateful_memes\\{orig_loc}\", f\".\\hateful_memes\\imgs_present/{file_name}\")\n",
    "        print(f\"file {file_name} moved\")\n",
    "    except FileNotFoundError:\n",
    "        print(f\"file {file_name} not found\")\n",
    "        pass\n",
    "    except Exception as e:\n",
    "        print(f\"error:{e}\")\n",
    "\n",
    "def change_slash(string):\n",
    "    string = string.replace(\"/\",  \"\\ \" )\n",
    "    string = string.replace(\" \", \"\")\n",
    "    return string\n",
    "    '''\n",
    "\n",
    "# imgs_referenced = imgs_referenced.apply(change_slash)\n",
    "# imgs_referenced.apply(select_ref_imgs)\n",
    "\n",
    "print(\"files moved\")"
   ]
  },
  {
   "cell_type": "code",
   "execution_count": 13,
   "metadata": {},
   "outputs": [
    {
     "name": "stdout",
     "output_type": "stream",
     "text": [
      "files deleted\n"
     ]
    }
   ],
   "source": [
    "# DO NOT RUN CELL!\n",
    "\n",
    "# for file_name in os.listdir(\"./hateful_memes/img\"):\n",
    "    # file_path = os.path.join(\"./hateful_memes/img\", file_name)\n",
    "    # os.remove(file_path)\n",
    "    # print(f\"{file_path} deleted.\")\n",
    "    # pass\n",
    "print (\"files deleted\")"
   ]
  },
  {
   "cell_type": "code",
   "execution_count": null,
   "metadata": {},
   "outputs": [],
   "source": [
    "# DO NOT RUN CELL!\n",
    "\n",
    "# shutil.rmtree(\"hateful_memes/img_old\")"
   ]
  },
  {
   "cell_type": "code",
   "execution_count": 7,
   "metadata": {},
   "outputs": [],
   "source": [
    "# DO NOT RUN CELL!\n",
    "\n",
    "# os.rename(\"hateful_memes/imgs_present\", \"hateful_memes/img\")"
   ]
  },
  {
   "cell_type": "code",
   "execution_count": 14,
   "metadata": {},
   "outputs": [
    {
     "name": "stdout",
     "output_type": "stream",
     "text": [
      "files present\n"
     ]
    }
   ],
   "source": [
    "# DO NOT RUN CELL!\n",
    "\n",
    "\"\"\"def check_imgs_exist(file_path):\n",
    "    file_path = str(file_path)\n",
    "    file_name = file_path[4:]\n",
    "    if os.path.isfile(f\"hateful_memes/{file_path}\"):\n",
    "        # print(f\"{file_name} present\")\n",
    "        return True\n",
    "    else:\n",
    "        return False\n",
    "    \n",
    "reference_df = df\n",
    "reference_df[\"img_exists\"] = reference_df[\"img\"].apply(check_imgs_exist)\n",
    "reference_df = reference_df[reference_df[\"img_exists\"]]\n",
    "reference_df = reference_df.drop(columns=[\"img_exists\"])\n",
    "reference_df = reference_df.reset_index()\n",
    "\"\"\""
   ]
  },
  {
   "cell_type": "code",
   "execution_count": 4,
   "metadata": {},
   "outputs": [
    {
     "name": "stdout",
     "output_type": "stream",
     "text": [
      "   index     id            img  label  \\\n",
      "0      0  42953  img/42953.png      0   \n",
      "1      2  13894  img/13894.png      0   \n",
      "2      4  82403  img/82403.png      0   \n",
      "3      5  16952  img/16952.png      0   \n",
      "4      6  76932  img/76932.png      0   \n",
      "\n",
      "                                                text  \n",
      "0   its their character not their color that matters  \n",
      "1                           putting bows on your pet  \n",
      "2  everybody loves chocolate chip cookies, even h...  \n",
      "3           go sports! do the thing! win the points!  \n",
      "4     fine you're right. now can we fucking drop it?   6744\n"
     ]
    }
   ],
   "source": [
    "# DO NOT RUN CELL!\n",
    "\n",
    "# print(reference_df.head(), len(reference_df))"
   ]
  },
  {
   "cell_type": "code",
   "execution_count": null,
   "metadata": {},
   "outputs": [
    {
     "name": "stdout",
     "output_type": "stream",
     "text": [
      "     index     id            img  label  \\\n",
      "882   1112  14507  img/14507.png      1   \n",
      "\n",
      "                                                  text  \n",
      "882  when your history teacher starts talking about...  \n"
     ]
    }
   ],
   "source": [
    "# DO NOT RUN CELL!\n",
    "\n",
    "# print(reference_df.query(\"id == '14507'\"))"
   ]
  },
  {
   "cell_type": "code",
   "execution_count": 15,
   "metadata": {},
   "outputs": [],
   "source": [
    "# DO NOT RUN CELL!\n",
    "\n",
    "# reference_df = reference_df.astype({\"index\":int, \"id\":int, \"img\":str, \"label\":float, \"text\":str})\n",
    "# data = reference_df\n",
    "\n",
    "# data.to_csv(\"data.csv\")"
   ]
  },
  {
   "cell_type": "code",
   "execution_count": 2,
   "metadata": {},
   "outputs": [
    {
     "name": "stdout",
     "output_type": "stream",
     "text": [
      "   Unnamed: 0  index     id            img  label  \\\n",
      "0           0      0  42953  img/42953.png    0.0   \n",
      "1           1      2  13894  img/13894.png    0.0   \n",
      "2           2      4  82403  img/82403.png    0.0   \n",
      "3           3      5  16952  img/16952.png    0.0   \n",
      "4           4      6  76932  img/76932.png    0.0   \n",
      "\n",
      "                                                text  \n",
      "0   its their character not their color that matters  \n",
      "1                           putting bows on your pet  \n",
      "2  everybody loves chocolate chip cookies, even h...  \n",
      "3           go sports! do the thing! win the points!  \n",
      "4     fine you're right. now can we fucking drop it?  \n"
     ]
    }
   ],
   "source": [
    "data = pd.read_csv(\"data.csv\")\n",
    "print (data.head())"
   ]
  },
  {
   "cell_type": "code",
   "execution_count": 3,
   "metadata": {},
   "outputs": [],
   "source": [
    "class DatasetTxt (Dataset):\n",
    "    def __init__(self, df, tokenizer):\n",
    "        super().__init__()\n",
    "        self.df = df\n",
    "        self.tokenizer = tokenizer\n",
    "\n",
    "        self.text= df[\"text\"].values\n",
    "        self.label = df[\"label\"].values\n",
    "\n",
    "    def __len__(self):\n",
    "        return len(self.df[\"label\"])\n",
    "    \n",
    "    def __getitem__(self, index):\n",
    "        text = self.text[index]\n",
    "        label = self.label[index]\n",
    "\n",
    "        encoding = self.tokenizer.encode_plus(text, add_special_tokens=True, return_token_type_ids=False,\n",
    "            padding='longest', return_attention_mask=True, return_tensors='pt', truncation=True)\n",
    "\n",
    "        return {\"input_ids\": encoding[\"input_ids\"].flatten(), \"attention_mask\": encoding[\"attention_mask\"].flatten(),\n",
    "                \"labels\": t.tensor(label, dtype=t.long)}\n",
    "        \n",
    "class DatasetImg (Dataset):\n",
    "    def __init__(self, df, img_dir):\n",
    "        super().__init__()\n",
    "        self.df = df\n",
    "        self.img_dir = img_dir\n",
    "        self.transform = transforms.Compose([\n",
    "                    transforms.Resize((224, 224)),\n",
    "                    transforms.ToTensor(),\n",
    "                    transforms.Normalize(mean=[0.485, 0.456, 0.406], std=[0.229, 0.224, 0.225])\n",
    "                    ])\n",
    "\n",
    "        self.img= df[\"img\"].values\n",
    "        self.label = df[\"label\"].astype(int).values\n",
    "\n",
    "    def __len__(self):\n",
    "        return len(self.df[\"label\"])\n",
    "    \n",
    "    def __getitem__(self, index):\n",
    "        img_pth = os.path.join(self.img_dir, self.img[index])\n",
    "        img = Image.open(img_pth).convert(\"RGB\")\n",
    "        img_tensor = self.transform(img).unsqueeze(0)\n",
    "        img_tensor = img_tensor.squeeze(1)\n",
    "        label = self.label[index]\n",
    "\n",
    "        return img_tensor, label\n",
    "\n"
   ]
  },
  {
   "cell_type": "code",
   "execution_count": 4,
   "metadata": {},
   "outputs": [],
   "source": [
    "# splitting data: 30% for fine-tuning of sub-models (of which, 20% for validation)\n",
    "\n",
    "hb_and_rs, rest = train_test_split(data, test_size= 0.7)\n",
    "fine_tuning_subm, validation_subm = train_test_split(hb_and_rs, test_size=0.2)"
   ]
  },
  {
   "cell_type": "code",
   "execution_count": 5,
   "metadata": {},
   "outputs": [],
   "source": [
    "tokenizer = tr.BertTokenizer.from_pretrained(\"Hate-speech-CNERG/dehatebert-mono-english\", clean_up_tokenization_spaces=True)"
   ]
  },
  {
   "cell_type": "code",
   "execution_count": 6,
   "metadata": {},
   "outputs": [],
   "source": [
    "text_ds = DatasetTxt(fine_tuning_subm, tokenizer=tokenizer)\n",
    "text_ds_val = DatasetTxt(validation_subm, tokenizer=tokenizer)"
   ]
  },
  {
   "cell_type": "code",
   "execution_count": 7,
   "metadata": {},
   "outputs": [],
   "source": [
    "imag_ds = DatasetImg(fine_tuning_subm, img_dir=\"hateful_memes/\")\n",
    "imag_ds_val = DatasetImg(validation_subm, img_dir=\"hateful_memes/\")"
   ]
  },
  {
   "cell_type": "code",
   "execution_count": 8,
   "metadata": {},
   "outputs": [],
   "source": [
    "d_collator = tr.DataCollatorWithPadding(tokenizer=tokenizer)"
   ]
  },
  {
   "cell_type": "code",
   "execution_count": 13,
   "metadata": {},
   "outputs": [],
   "source": [
    "train_loader_txt = DataLoader(text_ds, batch_size=16, shuffle=True, collate_fn=d_collator)\n",
    "train_loader_img = DataLoader(imag_ds, batch_size=16, shuffle=True)\n",
    "loader_txt_val = DataLoader(text_ds, batch_size=16, shuffle=True, collate_fn=d_collator)\n",
    "loader_img_val = DataLoader(imag_ds, batch_size=16, shuffle=True)"
   ]
  },
  {
   "cell_type": "code",
   "execution_count": 61,
   "metadata": {},
   "outputs": [],
   "source": [
    "class MonoLateFusModel(nn.Module):\n",
    "    def __init__(self, text_model, img_model, classes):\n",
    "        super().__init__()\n",
    "        self.text_model = text_model\n",
    "\n",
    "        in_features_img = img_model.fc.in_features\n",
    "        img_model.fc = nn.Linear(in_features_img, 2)\n",
    "        self.img_model = img_model\n",
    "\n",
    "\n",
    "        # architecture\n",
    "        #ToxicBERT/HateBERT input\n",
    "        self.textfc = nn.Sequential(\n",
    "            nn.Linear(classes, 24),\n",
    "            nn.ReLU(),\n",
    "            nn.Dropout(0.3),)\n",
    "        #ResNet input\n",
    "        self.imgfc = nn.Sequential(\n",
    "            nn.Linear(classes, 24),\n",
    "            nn.ReLU(),\n",
    "            nn.Dropout(0.3),)\n",
    "\n",
    "        # Fusion and classification\n",
    "        self.mlp = nn.Sequential(\n",
    "            nn.Linear(48, 16),\n",
    "            nn.ReLU(),\n",
    "            nn.Dropout(0.3),\n",
    "            nn.Linear(16, 2),)\n",
    "\n",
    "    def forward(self, tokenized_text, image):\n",
    "        #to be done\n",
    "        cloned_txt_model = copy.deepcopy(self.text_model)\n",
    "        \n",
    "        cloned_img_model = copy.deepcopy(self.img_model)\n",
    "\n",
    "        if \"labels\" in tokenized_text.keys(): #check if the input has labels (model in training)\n",
    "        \n",
    "            toktext = tokenized_text[\"input_ids\"]\n",
    "            mask = tokenized_text[\"attention_mask\"]\n",
    "            labels = tokenized_text[\"labels\"]\n",
    "\n",
    "            # txt_proc = self.textfc(self.text_model(tokenized_text))\n",
    "            # img_proc = self.imgfc(self.img_model(image))\n",
    "\n",
    "            logits_for_txt = cloned_txt_model(input_ids=toktext, attention_mask=mask, labels=labels).logits\n",
    "        \n",
    "        else: #otherwise, model in evaluation, labels not required\n",
    "            toktext = tokenized_text[\"input_ids\"]\n",
    "            mask = tokenized_text[\"attention_mask\"]\n",
    "\n",
    "            logits_for_txt = cloned_txt_model(input_ids=toktext, attention_mask=mask).logits\n",
    "        \n",
    "        img_t = cloned_img_model(image)\n",
    "\n",
    "        #print(f\"HateBERT output: {logits_for_txt.shape}\")\n",
    "        #print(f\"ResNet-18 output: {img_t.shape}\")\n",
    "\n",
    "        txt_proc = self.textfc(logits_for_txt)\n",
    "        img_proc = self.imgfc(img_t)\n",
    "\n",
    "        #print(f\"text data after mlp: {txt_proc.shape}\")\n",
    "        #print(f\"image data after mlp: {img_proc.shape}\")\n",
    "\n",
    "        txt_fft = t.fft.fft(txt_proc).real\n",
    "        img_fft = t.fft.fft(img_proc).real\n",
    "        #print(f\"txt_fft shape: {txt_fft.shape}\",f\"img_fft shape: {img_fft.shape}\")\n",
    "        fusion = t.cat([txt_fft, img_fft], dim=1)\n",
    "        #print(f\"fusion shape: {fusion.shape}\")\n",
    "        logits = self.mlp(fusion)\n",
    "        #print(f\"logits shape: {logits.shape}\")\n",
    "\n",
    "        return logits\n",
    "\n",
    "    def evaluate_subpart(self, dataloader_val, input_type):\n",
    "        model = self.text_model if input_type == \"txt\" else self.img_model\n",
    "        model.eval()\n",
    "\n",
    "        val_loss = 0\n",
    "        val_correct_preds = 0\n",
    "        val_tot_elements = 0\n",
    "\n",
    "        criterion = nn.CrossEntropyLoss()\n",
    "\n",
    "        if input_type == \"txt\":\n",
    "            with t.no_grad(): #validation\n",
    "                for val_batch in dataloader_val:\n",
    "                    val_toktext = val_batch[\"input_ids\"]\n",
    "                    val_mask = val_batch[\"attention_mask\"]\n",
    "                    val_label = val_batch[\"labels\"]\n",
    "                    \n",
    "                    val_outputs = model(input_ids=val_toktext, attention_mask=val_mask, labels=val_label)\n",
    "\n",
    "                    current_loss_val = val_outputs.loss\n",
    "\n",
    "                    val_loss += current_loss_val.item()\n",
    "                    val_logits = val_outputs.logits\n",
    "\n",
    "                    val_pred = t.argmax(val_logits, -1)\n",
    "\n",
    "                    val_correct_preds += t.sum(val_pred == val_label)\n",
    "                    val_tot_elements += len(val_label)\n",
    "\n",
    "        elif input_type == \"img\":\n",
    "            with t.no_grad():\n",
    "                for val_images, val_labels in dataloader_val:\n",
    "                        \n",
    "                    val_images = val_images.squeeze(1)\n",
    "\n",
    "                    val_outputs = model(val_images)\n",
    "\n",
    "                    current_loss_val = criterion(val_outputs.float(), val_labels)\n",
    "                    val_loss += current_loss_val.item()\n",
    "                                        \n",
    "                    _, val_pred = t.max(val_outputs.data, 1)\n",
    "\n",
    "                    val_correct_preds += t.sum(val_pred == val_labels)\n",
    "                    val_tot_elements += len(val_labels)\n",
    "\n",
    "        print(f\"val loss: {val_loss/(len(dataloader_val)):.4f}, val accuracy: {100*val_correct_preds.float()/val_tot_elements:.2f}\")\n",
    "\n",
    "\n",
    "    def fine_tune_subpart(self, dataloader_train, dataloader_val,  input_type):\n",
    "        model = self.text_model if input_type == \"txt\" else self.img_model\n",
    "\n",
    "        train_loss = 0\n",
    "        train_correct_preds = 0\n",
    "        train_tot_elements = 0\n",
    "\n",
    "        if input_type == \"txt\":\n",
    "            optimizer_txt = optim.AdamW(model.parameters(), lr= 5e-5)\n",
    "            scheduler = optim.lr_scheduler.StepLR(optimizer_txt, step_size=1, gamma=0.9)\n",
    "        elif input_type == \"img\":\n",
    "            criterion = nn.CrossEntropyLoss()\n",
    "            optimizer_img = optim.Adam(model.fc.parameters(), lr=0.001)\n",
    "\n",
    "        for e in range(8):\n",
    "            model.train()\n",
    "            if input_type == \"txt\":\n",
    "                for name, param in model.named_parameters():\n",
    "                    if \"classifier\" not in name:\n",
    "                        param.requires_grad = False\n",
    "\n",
    "                for batch in dataloader_train:\n",
    "                    toktext = batch[\"input_ids\"]\n",
    "                    mask = batch[\"attention_mask\"]\n",
    "                    labels = batch[\"labels\"]\n",
    "\n",
    "                    outputs = model(input_ids=toktext, attention_mask=mask, labels=labels)\n",
    "                    \n",
    "                    loss = outputs.loss\n",
    "                    logits = outputs.logits\n",
    "\n",
    "                    optimizer_txt.zero_grad()\n",
    "                    loss.backward()\n",
    "\n",
    "                    nn.utils.clip_grad_norm_([p for p in model.parameters() if p.requires_grad], max_norm=1.0) \n",
    "\n",
    "                    optimizer_txt.step()\n",
    "                    scheduler.step()\n",
    "                    train_loss += loss.item()\n",
    "\n",
    "                    pred = t.argmax(logits, -1)\n",
    "                    train_correct_preds += t.sum(pred == labels)\n",
    "                    train_tot_elements += len(labels)\n",
    "                    \n",
    "\n",
    "            elif input_type == \"img\":\n",
    "                for name, param in model.named_parameters():\n",
    "                                if \"fc\" not in name:\n",
    "                                    param.requires_grad = False\n",
    "\n",
    "                for images, labels in dataloader_train:\n",
    "\n",
    "                    images = images.squeeze(1)\n",
    "\n",
    "                    optimizer_img.zero_grad()\n",
    "                    outputs = model(images)\n",
    "                    \n",
    "                    loss = criterion(outputs.float(), labels)\n",
    "                    loss.backward()\n",
    "\n",
    "                    nn.utils.clip_grad_norm_([p for p in model.parameters() if p.requires_grad], max_norm=1.0) \n",
    "\n",
    "                    optimizer_img.step()\n",
    "                    train_loss += loss.item()\n",
    "                                        \n",
    "                    _, pred = t.max(outputs.data, 1)\n",
    "                    train_correct_preds += t.sum(pred == labels)\n",
    "                    train_tot_elements += len(labels)\n",
    "            \n",
    "            else:\n",
    "                print (\"input_type must be either 'txt' or 'img'\")\n",
    "            \n",
    "            print(f\"epoch {e+1}/8\", \n",
    "        f\"train loss: {train_loss/(len(dataloader_train)*(e+1)):.4f}, train accuracy: {100*train_correct_preds/train_tot_elements:.2f}\")\n",
    "            self.evaluate_subpart(dataloader_val, input_type)   \n"
   ]
  },
  {
   "cell_type": "code",
   "execution_count": 126,
   "metadata": {},
   "outputs": [],
   "source": [
    "model_txt = tr.AutoModelForSequenceClassification.from_pretrained(\"Hate-speech-CNERG/dehatebert-mono-english\", num_labels = 2)\n",
    "model_img = models.resnet18(weights=models.ResNet18_Weights.IMAGENET1K_V1)"
   ]
  },
  {
   "cell_type": "code",
   "execution_count": 127,
   "metadata": {},
   "outputs": [],
   "source": [
    "hmc_lf_model = MonoLateFusModel(text_model=model_txt, img_model=model_img, classes=2)"
   ]
  },
  {
   "cell_type": "code",
   "execution_count": null,
   "metadata": {},
   "outputs": [],
   "source": [
    "hmc_lf_model.fine_tune_subpart(train_loader_txt, loader_txt_val, \"txt\")"
   ]
  },
  {
   "cell_type": "code",
   "execution_count": 129,
   "metadata": {},
   "outputs": [
    {
     "name": "stdout",
     "output_type": "stream",
     "text": [
      "epoch 1/8 train loss: 0.6930, train accuracy: 60.32\n",
      "val loss: 0.7388, val accuracy: 63.84\n",
      "epoch 2/8 train loss: 0.6697, train accuracy: 62.39\n",
      "val loss: 0.5923, val accuracy: 68.97\n",
      "epoch 3/8 train loss: 0.6588, train accuracy: 63.58\n",
      "val loss: 0.5892, val accuracy: 69.10\n",
      "epoch 4/8 train loss: 0.6474, train accuracy: 64.31\n",
      "val loss: 0.5703, val accuracy: 71.14\n",
      "epoch 5/8 train loss: 0.6420, train accuracy: 64.66\n",
      "val loss: 0.5647, val accuracy: 70.52\n",
      "epoch 6/8 train loss: 0.6360, train accuracy: 65.22\n",
      "val loss: 0.5541, val accuracy: 72.93\n",
      "epoch 7/8 train loss: 0.6305, train accuracy: 65.65\n",
      "val loss: 0.5844, val accuracy: 69.53\n",
      "epoch 8/8 train loss: 0.6269, train accuracy: 65.91\n",
      "val loss: 0.5906, val accuracy: 68.17\n"
     ]
    }
   ],
   "source": [
    "hmc_lf_model.fine_tune_subpart(train_loader_img, loader_img_val, \"img\")"
   ]
  },
  {
   "cell_type": "code",
   "execution_count": 53,
   "metadata": {},
   "outputs": [],
   "source": [
    "class dataset_hmc (Dataset):\n",
    "    def __init__(self, df, tokenizer, img_path):\n",
    "        super().__init__()\n",
    "        self.df = df\n",
    "        self.tokenizer = tokenizer\n",
    "        self.img_dir = img_path\n",
    "        self.transform = transforms.Compose([\n",
    "                    transforms.Resize((224, 224)),\n",
    "                    transforms.ToTensor(),\n",
    "                    transforms.Normalize(mean=[0.485, 0.456, 0.406], std=[0.229, 0.224, 0.225])\n",
    "                    ])\n",
    "\n",
    "        self.text= df[\"text\"].values\n",
    "        self.label = df[\"label\"].values\n",
    "        self.img = df[\"img\"].values\n",
    "\n",
    "    def __len__(self):\n",
    "        return len(self.df[\"label\"])\n",
    "    \n",
    "    def __getitem__(self, index):\n",
    "        \n",
    "        text = self.text[index]\n",
    "        label = self.label[index]\n",
    "\n",
    "        encoding = self.tokenizer.encode_plus(text, add_special_tokens=True, return_token_type_ids=False,\n",
    "            padding='longest', return_attention_mask=True, return_tensors='pt', truncation=True)\n",
    "        \n",
    "        img_pth = os.path.join(self.img_dir, self.img[index])\n",
    "        img = Image.open(img_pth).convert(\"RGB\")\n",
    "        img_tensor = self.transform(img).unsqueeze(0)\n",
    "        img_tensor = img_tensor.squeeze(1)\n",
    "        label = self.label[index]\n",
    "\n",
    "        return {\"input_ids\": encoding[\"input_ids\"].flatten(), \n",
    "                \"attention_mask\": encoding[\"attention_mask\"].flatten(),\n",
    "                \"img_tensor\": img_tensor,\n",
    "                \"labels\": t.tensor(label, dtype=t.long),\n",
    "            }"
   ]
  },
  {
   "cell_type": "code",
   "execution_count": 54,
   "metadata": {},
   "outputs": [],
   "source": [
    "# 50% of the whole dataset for training the multimodal model. 10% for validation and 10% for testing\n",
    "\n",
    "train_hmc, val_and_test = train_test_split(rest, test_size=0.25)\n",
    "validation_hmc, test_hmc = train_test_split(val_and_test, test_size=0.5)\n"
   ]
  },
  {
   "cell_type": "code",
   "execution_count": 131,
   "metadata": {},
   "outputs": [
    {
     "name": "stdout",
     "output_type": "stream",
     "text": [
      "1248 2292 3540\n",
      "length of half_n_half and of one_third_hateful: 1312 2228\n",
      "number of hateful and non-hateful in half_n_half: 624 688\n",
      "number of hateful and non-hateful in one_third_hateful: 624 1604\n",
      "proportion of hateful and non-hateful in half_n_half: 0.47560975609756095 0.524390243902439\n",
      "proportion of hateful and non-hateful in one_third_hateful: 0.2800718132854578 0.3087971274685817\n"
     ]
    }
   ],
   "source": [
    "train_hmc_hateful = train_hmc.query(\"label == 1.0\")\n",
    "train_hmc_non_hateful = train_hmc.query(\"label == 0.0\")\n",
    "print(len(train_hmc_hateful), len(train_hmc_non_hateful), len(train_hmc))\n",
    "\n",
    "t_hmc_h1, t_hmc_h2 = train_test_split(train_hmc_hateful, test_size=0.5)\n",
    "t_hmc_nh1, t_hmc_nh2 = train_test_split(train_hmc_non_hateful, test_size=0.3)\n",
    "\n",
    "half_n_half_train = pd.concat([t_hmc_h2, t_hmc_nh2], ignore_index=True)\n",
    "one_third_hateful_train = pd.concat([t_hmc_h1, t_hmc_nh1], ignore_index=True)\n",
    "\n",
    "half_n_half_train = half_n_half_train.sample(frac=1).reset_index(drop=True)\n",
    "one_third_hateful_train = one_third_hateful_train.sample(frac=1).reset_index(drop=True)\n",
    "\n",
    "hf_percent_in_hnh = len(half_n_half_train.query(\"label == 1.0\"))/len(half_n_half_train)\n",
    "nhf_percent_in_hnh = len(half_n_half_train.query(\"label == 0.0\"))/len(half_n_half_train)\n",
    "hf_percent_in_ot = len(half_n_half_train.query(\"label == 1.0\"))/len(one_third_hateful_train)\n",
    "nhf_percent_in_ot = len(half_n_half_train.query(\"label == 0.0\"))/len(one_third_hateful_train)\n",
    "\n",
    "print(\"length of half_n_half and of one_third_hateful:\",len(half_n_half_train), len(one_third_hateful_train))\n",
    "print(\"number of hateful and non-hateful in half_n_half:\",len(half_n_half_train.query(\"label == 1.0\")), len(half_n_half_train.query(\"label == 0.0\")))\n",
    "print(\"number of hateful and non-hateful in one_third_hateful:\",len(one_third_hateful_train.query(\"label == 1.0\")), len(one_third_hateful_train.query(\"label == 0.0\")))\n",
    "print(\"proportion of hateful and non-hateful in half_n_half:\",hf_percent_in_hnh, nhf_percent_in_hnh)\n",
    "print(\"proportion of hateful and non-hateful in one_third_hateful:\",hf_percent_in_ot, nhf_percent_in_ot)"
   ]
  },
  {
   "cell_type": "code",
   "execution_count": 132,
   "metadata": {},
   "outputs": [],
   "source": [
    "train_ds_hmc = dataset_hmc(df=train_hmc, tokenizer=tokenizer, img_path=\"hateful_memes/\")\n",
    "train_hnh_ds_hmc = dataset_hmc(df=half_n_half_train, tokenizer=tokenizer, img_path=\"hateful_memes/\")\n",
    "train_ot_ds_hmc = dataset_hmc(df=one_third_hateful_train, tokenizer=tokenizer, img_path=\"hateful_memes/\")\n",
    "# val_ds_hmc = dataset_hmc(df=validation_hmc, tokenizer=tokenizer, img_path=\"hateful_memes/\")\n",
    "# test_ds_hmc = dataset_hmc(df=test_hmc, tokenizer=tokenizer, img_path=\"hateful_memes/\")\n",
    "val_test_ds_hmc = dataset_hmc(df=val_and_test, tokenizer=tokenizer, img_path=\"hateful_memes/\")"
   ]
  },
  {
   "cell_type": "code",
   "execution_count": 133,
   "metadata": {},
   "outputs": [],
   "source": [
    "train_dataloader_hmc = DataLoader(train_ds_hmc, batch_size=16, shuffle=True, collate_fn=d_collator)\n",
    "train_dataloader_hnh_hmc = DataLoader(train_hnh_ds_hmc, batch_size=16, shuffle=True, collate_fn=d_collator)\n",
    "train_dataloader_ot_hmc = DataLoader(train_ot_ds_hmc, batch_size=16, shuffle=True, collate_fn=d_collator)\n",
    "# val_dataloader_hmc = DataLoader(val_ds_hmc, batch_size=16, shuffle=True, collate_fn=d_collator)\n",
    "# test_dataloader_hmc = DataLoader(test_ds_hmc, batch_size=16, shuffle=True, collate_fn=d_collator)\n",
    "vt_dataloader_hmc = DataLoader(val_test_ds_hmc, batch_size=16, shuffle=True, collate_fn=d_collator)"
   ]
  },
  {
   "cell_type": "code",
   "execution_count": 121,
   "metadata": {},
   "outputs": [],
   "source": [
    "def train_model(dataloader, class_weights):\n",
    "    hmc_lf_model.img_model.train()\n",
    "    for name, param in hmc_lf_model.img_model.named_parameters():\n",
    "        if \"fc\" not in name:\n",
    "            param.requires_grad = False\n",
    "\n",
    "    hmc_lf_model.text_model.train()\n",
    "    for name, param in hmc_lf_model.text_model.named_parameters():\n",
    "        if \"classifier\" not in name:\n",
    "            param.requires_grad = False\n",
    "\n",
    "    for name, param in hmc_lf_model.named_parameters():\n",
    "        if not param.requires_grad and param.grad is not None:\n",
    "            print(f\"Warning: {name} has a gradient despite being frozen.\")\n",
    "        #print(f\"{name}: requires_grad={param.requires_grad}\")\n",
    "\n",
    "    hmc_lf_model.train()\n",
    "\n",
    "    train_params = [{\"params\": [p for n, p in hmc_lf_model.named_parameters() if p.requires_grad and not n.endswith(\"bias\")],\"weight_decay\": 0.01,},\n",
    "        {\"params\": [p for n, p in hmc_lf_model.named_parameters() if p.requires_grad and n.endswith(\"bias\")],\"weight_decay\": 0.0,}]\n",
    "\n",
    "    total_loss = 0\n",
    "    correct_preds = 0\n",
    "    total_elements = 0\n",
    "\n",
    "    loss_function = nn.CrossEntropyLoss(weight=class_weights)\n",
    "    optimizer_general = t.optim.AdamW(train_params, lr=1e-4)\n",
    "    # optimizer_img = optim.Adam(hmc_lf_model.img_model.fc.parameters(), lr=0.001)\n",
    "    # optimizer_txt = optim.AdamW(hmc_lf_model.text_model.parameters(), lr= 5e-5)\n",
    "    # scheduler = optim.lr_scheduler.StepLR(optimizer_txt, step_size=1, gamma=0.9)\n",
    "\n",
    "    for e in range(10):\n",
    "        for batch in dataloader:\n",
    "            \n",
    "            text_data = {\n",
    "            \"input_ids\": batch[\"input_ids\"],\n",
    "            \"attention_mask\": batch[\"attention_mask\"],\n",
    "            \"labels\": batch[\"labels\"]\n",
    "            }\n",
    "            img = batch[\"img_tensor\"]\n",
    "            img_squeezed = img.squeeze(1)\n",
    "            label = batch[\"labels\"]\n",
    "\n",
    "            outputs = hmc_lf_model(text_data,img_squeezed)\n",
    "\n",
    "            loss = loss_function(outputs, label)\n",
    "\n",
    "            optimizer_general.zero_grad()\n",
    "            loss.backward()\n",
    "            optimizer_general.step()\n",
    "\n",
    "            total_loss += loss.item()\n",
    "            _, pred = t.max(outputs.data, 1)\n",
    "\n",
    "            correct_preds += t.sum(pred == label)\n",
    "            total_elements += len(label)\n",
    "\n",
    "        print(f\"epoch {e+1}/10\", \n",
    "            f\"loss: {total_loss/(len(dataloader)*(e+1)):.4f}, accuracy: {100*correct_preds/total_elements:.2f}\")\n"
   ]
  },
  {
   "cell_type": "code",
   "execution_count": 135,
   "metadata": {},
   "outputs": [
    {
     "name": "stdout",
     "output_type": "stream",
     "text": [
      "tensor([0.5244, 0.4756]) tensor([0.7199, 0.2801])\n"
     ]
    }
   ],
   "source": [
    "weights_hnh = t.tensor([nhf_percent_in_hnh, hf_percent_in_hnh])\n",
    "weights_ot = t.tensor([1-hf_percent_in_ot, hf_percent_in_ot])\n",
    "print(weights_hnh, weights_ot)"
   ]
  },
  {
   "cell_type": "code",
   "execution_count": 136,
   "metadata": {},
   "outputs": [
    {
     "name": "stdout",
     "output_type": "stream",
     "text": [
      "epoch 1/10 loss: 0.7508, accuracy: 51.75\n",
      "epoch 2/10 loss: 0.7397, accuracy: 52.02\n",
      "epoch 3/10 loss: 0.7305, accuracy: 52.16\n",
      "epoch 4/10 loss: 0.7245, accuracy: 52.29\n",
      "epoch 5/10 loss: 0.7194, accuracy: 52.73\n",
      "epoch 6/10 loss: 0.7145, accuracy: 53.07\n",
      "epoch 7/10 loss: 0.7095, accuracy: 53.78\n",
      "epoch 8/10 loss: 0.7047, accuracy: 54.35\n",
      "epoch 9/10 loss: 0.7005, accuracy: 54.90\n",
      "epoch 10/10 loss: 0.6999, accuracy: 55.02\n"
     ]
    }
   ],
   "source": [
    "train_model(train_dataloader_hnh_hmc, weights_hnh)"
   ]
  },
  {
   "cell_type": "code",
   "execution_count": 137,
   "metadata": {},
   "outputs": [
    {
     "name": "stdout",
     "output_type": "stream",
     "text": [
      "epoch 1/10 loss: 0.5156, accuracy: 69.08\n",
      "epoch 2/10 loss: 0.4667, accuracy: 70.96\n",
      "epoch 3/10 loss: 0.4483, accuracy: 71.47\n",
      "epoch 4/10 loss: 0.4385, accuracy: 71.78\n",
      "epoch 5/10 loss: 0.4328, accuracy: 71.84\n",
      "epoch 6/10 loss: 0.4292, accuracy: 72.01\n",
      "epoch 7/10 loss: 0.4258, accuracy: 72.08\n",
      "epoch 8/10 loss: 0.4216, accuracy: 72.12\n",
      "epoch 9/10 loss: 0.4189, accuracy: 72.18\n",
      "epoch 10/10 loss: 0.4169, accuracy: 72.16\n"
     ]
    }
   ],
   "source": [
    "train_model(train_dataloader_ot_hmc, weights_ot)"
   ]
  },
  {
   "cell_type": "code",
   "execution_count": 160,
   "metadata": {},
   "outputs": [],
   "source": [
    "def eval_model(dataloader):\n",
    "    hmc_lf_model.text_model.eval()\n",
    "    hmc_lf_model.img_model.eval()\n",
    "    hmc_lf_model.eval()\n",
    "\n",
    "    loss_function = nn.CrossEntropyLoss()\n",
    "\n",
    "    n_batch = 0\n",
    "    val_loss = 0\n",
    "    val_correct = 0\n",
    "    val_total_el = 0\n",
    "    pred_prob_total =[]\n",
    "    label_total = []\n",
    "    with t.no_grad():\n",
    "\n",
    "        for batch in dataloader:\n",
    "            text_data_val = {\n",
    "            \"input_ids\": batch[\"input_ids\"],\n",
    "            \"attention_mask\": batch[\"attention_mask\"]\n",
    "            }\n",
    "            img_val = batch[\"img_tensor\"]\n",
    "            img_val = img_val.squeeze(1)\n",
    "            label_val = batch[\"labels\"]\n",
    "            \n",
    "            # print(text_data)\n",
    "            val_outputs = hmc_lf_model(text_data_val,img_val)\n",
    "            #print (outputs)\n",
    "            loss_val = loss_function(val_outputs, label_val)\n",
    "\n",
    "            val_loss += loss_val.item()\n",
    "            _, val_pred = t.max(val_outputs.data, 1)\n",
    "\n",
    "            # print(f\"predictions shape: {val_pred.shape}\", f\"labels shape: {label_val.shape}\")\n",
    "\n",
    "            val_correct += t.sum(val_pred == label_val)\n",
    "            val_total_el += len(label_val)\n",
    "\n",
    "            pred_probs = t.softmax(val_outputs, dim=1)[:, 1]\n",
    "            pred_prob_total.extend(pred_probs.numpy())\n",
    "            label_total.extend(label_val.numpy())\n",
    "            roc_auc = roc_auc_score(label_val, pred_probs)\n",
    "\n",
    "            n_batch +=1\n",
    "            if len(dataloader) % n_batch == 0:\n",
    "                print(f\"correct values: {t.sum(val_pred == label_val)}/16, accuracy for batch: {100*t.sum(val_pred==label_val)/16:.2f}%, ROC-AUC: {roc_auc:.2f}\")\n",
    "            \n",
    "        fpr, tpr, thresholds = roc_curve(label_total, pred_prob_total)\n",
    "        roc_auc_total = roc_auc_score(label_total, pred_prob_total)\n",
    "        \n",
    "        print(f\"validation loss: {val_loss/len(dataloader):.4f}, validation accuracy: {100*val_correct/val_total_el:.2f}%\")\n",
    "        \n",
    "        plt.figure()\n",
    "        plt.plot(fpr, tpr, color='darkorange', lw=2, label=f'ROC curve (AUC = {roc_auc_total:.2f})')\n",
    "        plt.plot([0, 1], [0, 1], color='navy', lw=2, linestyle='--')\n",
    "        plt.xlabel('False Positive Rate')\n",
    "        plt.ylabel('True Positive Rate')\n",
    "        plt.title('Receiver Operating Characteristic')\n",
    "        plt.legend(loc=\"lower right\")\n",
    "        plt.show()\n"
   ]
  },
  {
   "cell_type": "code",
   "execution_count": 159,
   "metadata": {},
   "outputs": [
    {
     "name": "stdout",
     "output_type": "stream",
     "text": [
      "correct values: 11/16, accuracy for batch: 68.75%, ROC-AUC: 0.53\n",
      "correct values: 13/16, accuracy for batch: 81.25%, ROC-AUC: 0.59\n",
      "correct values: 13/16, accuracy for batch: 81.25%, ROC-AUC: 0.96\n",
      "correct values: 7/16, accuracy for batch: 43.75%, ROC-AUC: 0.71\n",
      "0.6812789098637331 <class 'numpy.float64'>\n",
      "validation loss: 0.7638, validation accuracy: 65.62%\n"
     ]
    },
    {
     "data": {
      "image/png": "[encoded data removed]",
      "text/plain": [
       "<Figure size 640x480 with 1 Axes>"
      ]
     },
     "metadata": {},
     "output_type": "display_data"
    }
   ],
   "source": [
    "eval_model(vt_dataloader_hmc)"
   ]
  },
  {
   "cell_type": "code",
   "execution_count": null,
   "metadata": {},
   "outputs": [],
   "source": [
    "\"\"\"hateful_instance = data.query(\"label == 1.0\")\n",
    "non_hateful_instance = data.query(\"label == 0.0\")\n",
    "print(len(hateful_instance), len(non_hateful_instance))\n",
    "hi_fraction = hateful_instance[:1000]\n",
    "nhi_fraction = non_hateful_instance[:100]\n",
    "\n",
    "unbalanced_df = pd.concat([hi_fraction, nhi_fraction], ignore_index=True)\n",
    "unbalanced_df = unbalanced_df.sample(frac=1).reset_index(drop=True)\n",
    "\n",
    "print(len(unbalanced_df), unbalanced_df.head())\"\"\""
   ]
  },
  {
   "cell_type": "code",
   "execution_count": 106,
   "metadata": {},
   "outputs": [],
   "source": [
    "\"\"\"hateful_instance_ds = dataset_hmc(df=unbalanced_df, tokenizer=tokenizer, img_path=\"hateful_memes/\")\n",
    "hateful_instance_dl = DataLoader(hateful_instance_ds, batch_size=16, shuffle=True, collate_fn=d_collator)\"\"\""
   ]
  },
  {
   "cell_type": "code",
   "execution_count": null,
   "metadata": {},
   "outputs": [],
   "source": [
    "#eval_model(hateful_instance_dl)"
   ]
  },
  {
   "cell_type": "code",
   "execution_count": null,
   "metadata": {},
   "outputs": [],
   "source": [
    "def choose(instance):\n",
    "    df_inst = pd.DataFrame(instance)\n",
    "    ds = dataset_hmc(df=df_inst, tokenizer=tokenizer, img_path=\"hateful_memes/\")\n",
    "    dl = DataLoader(ds, batch_size=1, shuffle=True, collate_fn=d_collator)\n",
    "    hmc_lf_model.text_model.eval()\n",
    "    hmc_lf_model.img_model.eval()\n",
    "    hmc_lf_model.eval()\n",
    "    for inst in dl:\n",
    "        text_data = {\n",
    "            \"input_ids\": inst[\"input_ids\"],\n",
    "            \"attention_mask\": inst[\"attention_mask\"]\n",
    "            }\n",
    "        img = inst[\"img_tensor\"]\n",
    "        img = img.squeeze(1)\n",
    "        #label = inst[\"labels\"]\n",
    "        img_path = os.path.join(\"hateful_memes/\", df_inst[\"img\"])\n",
    "        \n",
    "        outputs = hmc_lf_model(text_data,img)\n",
    "        sm = nn.Softmax(1)\n",
    "        probs = sm(outputs.data, 1)\n",
    "        pred = t.argmax(outputs.data, 1)\n",
    "        if pred == 1 and t.argmax(probs, 1) > 0.70:\n",
    "            img = Image.open(img_path).convert('RGB')\n",
    "\n",
    "            # Trasforma l'immagine in un tensore\n",
    "            im1 = img.filter(ImageFilter.BoxBlur(10))\n",
    "            im1.show()\n",
    "            print(f\"This image was censored due to containing harmful content. Confidence:{t.argmax(probs,1)}\")\n",
    "        else:\n",
    "            img = Image.open(img_path).convert('RGB')\n",
    "            img.show()\n",
    "            print(\"This image doesn't seem to contain harmful content\")"
   ]
  }
 ],
 "metadata": {
  "kernelspec": {
   "display_name": "ex5",
   "language": "python",
   "name": "python3"
  },
  "language_info": {
   "codemirror_mode": {
    "name": "ipython",
    "version": 3
   },
   "file_extension": ".py",
   "mimetype": "text/x-python",
   "name": "python",
   "nbconvert_exporter": "python",
   "pygments_lexer": "ipython3",
   "version": "3.10.11"
  }
 },
 "nbformat": 4,
 "nbformat_minor": 2
}
